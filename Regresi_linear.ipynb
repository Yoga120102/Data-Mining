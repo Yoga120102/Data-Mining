{
  "cells": [
    {
      "cell_type": "markdown",
      "metadata": {
        "id": "view-in-github",
        "colab_type": "text"
      },
      "source": [
        "<a href=\"https://colab.research.google.com/github/Yoga120102/Data-Mining/blob/main/Regresi_linear.ipynb\" target=\"_parent\"><img src=\"https://colab.research.google.com/assets/colab-badge.svg\" alt=\"Open In Colab\"/></a>"
      ]
    },
    {
      "cell_type": "code",
      "source": [
        "#Import Library yang diperlukan Scipy\n",
        "from scipy import stats"
      ],
      "metadata": {
        "id": "WhXKn_OcQSbI"
      },
      "execution_count": 38,
      "outputs": []
    },
    {
      "cell_type": "code",
      "source": [
        "# x = data Usia Mobil\n",
        "x = [5,4,6,5,5,5,6,6,2,7,7]"
      ],
      "metadata": {
        "id": "xhRH1nu4QeO_"
      },
      "execution_count": 39,
      "outputs": []
    },
    {
      "cell_type": "code",
      "source": [
        "# y = data harga Mobil\n",
        "y = [85,103,70,82,89,98,66,95,169,70,48]"
      ],
      "metadata": {
        "id": "hblAXQIkQqlH"
      },
      "execution_count": 40,
      "outputs": []
    },
    {
      "cell_type": "code",
      "source": [
        "slope, intercept, r, p, std_err = stats.linregress(x,y)"
      ],
      "metadata": {
        "id": "UFzeYBYVQ7G3"
      },
      "execution_count": 41,
      "outputs": []
    },
    {
      "cell_type": "code",
      "source": [
        "# Buat Fungsi Linear Regresi \n",
        "def myfunc(x):\n",
        "  return slope * x + intercept"
      ],
      "metadata": {
        "id": "r_jo3i_CREFB"
      },
      "execution_count": 47,
      "outputs": []
    },
    {
      "cell_type": "code",
      "source": [
        "#contoh kita ambil x = 5\n",
        "Harga_Mobil = myfunc(5)"
      ],
      "metadata": {
        "id": "B24Xw5djRdD_"
      },
      "execution_count": 54,
      "outputs": []
    },
    {
      "cell_type": "code",
      "source": [
        "print(Harga_Mobil)"
      ],
      "metadata": {
        "id": "UJa5Gg2YRgoH",
        "outputId": "b3b2d728-06ff-4309-cc14-f78a3b357d4c",
        "colab": {
          "base_uri": "https://localhost:8080/"
        }
      },
      "execution_count": 55,
      "outputs": [
        {
          "output_type": "stream",
          "name": "stdout",
          "text": [
            "94.16216216216216\n"
          ]
        }
      ]
    }
  ],
  "metadata": {
    "colab": {
      "collapsed_sections": [],
      "name": "Selamat Datang di Colaboratory",
      "provenance": [],
      "include_colab_link": true
    },
    "kernelspec": {
      "display_name": "Python 3",
      "name": "python3"
    }
  },
  "nbformat": 4,
  "nbformat_minor": 0
}