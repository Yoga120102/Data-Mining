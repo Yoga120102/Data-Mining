{
  "cells": [
    {
      "cell_type": "markdown",
      "metadata": {
        "id": "view-in-github",
        "colab_type": "text"
      },
      "source": [
        "<a href=\"https://colab.research.google.com/github/Yoga120102/Data-Mining/blob/main/decisiontree.ipynb\" target=\"_parent\"><img src=\"https://colab.research.google.com/assets/colab-badge.svg\" alt=\"Open In Colab\"/></a>"
      ]
    },
    {
      "cell_type": "code",
      "source": [
        "#Import Library Scikit Learn untuk Decision Tree, Dataset & Matplotlib\n",
        "from sklearn.tree import DecisionTreeClassifier\n",
        "from sklearn import datasets\n",
        "import matplotlib.pyplot as plt"
      ],
      "metadata": {
        "id": "7YkPZF8Vkf-s"
      },
      "execution_count": 1,
      "outputs": []
    },
    {
      "cell_type": "code",
      "source": [
        "#Load Dataset Iris dari library scikit learn\n",
        "iris = datasets.load_iris()\n",
        "features = iris['data']\n",
        "target = iris['target']"
      ],
      "metadata": {
        "id": "wX3BcVCAk1_s"
      },
      "execution_count": null,
      "outputs": []
    },
    {
      "cell_type": "code",
      "source": [
        "#Membuat Objek Model Decision Tree\n",
        "decisiontree = DecisionTreeClassifier(random_state=0, max_depth=None,\n",
        "                                      min_samples_split=2, min_samples_leaf=1,\n",
        "                                      min_weight_fraction_leaf=0,\n",
        "                                      max_leaf_nodes=None,\n",
        "                                      min_impurity_decrease=0)"
      ],
      "metadata": {
        "id": "fdkqHViQluYG"
      },
      "execution_count": 6,
      "outputs": []
    },
    {
      "cell_type": "code",
      "source": [
        "#Mentraining Model Decision Tree\n",
        "model = decisiontree.fit(features, target)"
      ],
      "metadata": {
        "id": "Ll1sFNcqmp2U"
      },
      "execution_count": 9,
      "outputs": []
    },
    {
      "cell_type": "code",
      "source": [
        "#Mengambil sampel observasi dan membuat prediksi\n",
        "#Sampel berupa data dimensi kelopak \n",
        "#Fungsi predict() => memeriksa kelas yang dimilikinya\n",
        "#Fungsi predict_proba() => memeriksa probabilitas kelas dari prediksi prediksi tersebut\n",
        "observation = [[5, 4, 3, 2]]\n",
        "model.predict(observation)\n",
        "model.predict_proba(observation)"
      ],
      "metadata": {
        "colab": {
          "base_uri": "https://localhost:8080/"
        },
        "id": "RYHWf3TFm3lN",
        "outputId": "309fad8b-220a-45dc-b11f-a9523500616b"
      },
      "execution_count": 10,
      "outputs": [
        {
          "output_type": "execute_result",
          "data": {
            "text/plain": [
              "array([[0., 1., 0.]])"
            ]
          },
          "metadata": {},
          "execution_count": 10
        }
      ]
    },
    {
      "cell_type": "code",
      "source": [
        "#Membuat grafik visualisasi Decision Tree\n",
        "import pydotplus\n",
        "from sklearn import tree\n",
        "dot_data = tree.export_graphviz(decisiontree, out_file=None,\n",
        "                                feature_names=iris['feature_names'],\n",
        "                                class_names=iris['target_names'])\n",
        "from IPython.display import Image\n",
        "graph = pydotplus.graph_from_dot_data(dot_data)\n",
        "Image(graph.create_png())\n",
        "graph.write_png('iris.png')"
      ],
      "metadata": {
        "colab": {
          "base_uri": "https://localhost:8080/"
        },
        "id": "oQCe5ET2oHVF",
        "outputId": "71b74218-54a0-42b2-ce6f-67e752de4532"
      },
      "execution_count": 12,
      "outputs": [
        {
          "output_type": "execute_result",
          "data": {
            "text/plain": [
              "True"
            ]
          },
          "metadata": {},
          "execution_count": 12
        }
      ]
    }
  ],
  "metadata": {
    "colab": {
      "collapsed_sections": [],
      "name": "decisiontree.ipynb",
      "provenance": [],
      "include_colab_link": true
    },
    "kernelspec": {
      "display_name": "Python 3",
      "name": "python3"
    }
  },
  "nbformat": 4,
  "nbformat_minor": 0
}